{
 "cells": [
  {
   "cell_type": "code",
   "execution_count": 2,
   "metadata": {
    "ExecuteTime": {
     "end_time": "2018-01-17T22:57:57.181388Z",
     "start_time": "2018-01-17T22:57:54.978929Z"
    }
   },
   "outputs": [
    {
     "name": "stderr",
     "output_type": "stream",
     "text": [
      "Using TensorFlow backend.\n",
      "/home/geanderson/anaconda3/lib/python3.6/importlib/_bootstrap.py:219: RuntimeWarning: compiletime version 3.5 of module 'tensorflow.python.framework.fast_tensor_util' does not match runtime version 3.6\n",
      "  return f(*args, **kwds)\n"
     ]
    }
   ],
   "source": [
    "from time import time\n",
    "from keras.models import Sequential\n",
    "from keras.layers import Dense, Activation\n",
    "from keras.layers import LSTM\n",
    "from keras.callbacks import TensorBoard\n",
    "from sklearn.model_selection import train_test_split\n",
    "from sklearn.preprocessing import StandardScaler\n",
    "import pandas as pd\n",
    "import numpy as np\n",
    "import matplotlib.pyplot as plt\n",
    "%matplotlib inline"
   ]
  },
  {
   "cell_type": "code",
   "execution_count": 30,
   "metadata": {
    "ExecuteTime": {
     "end_time": "2018-01-17T23:15:22.811709Z",
     "start_time": "2018-01-17T23:15:22.713435Z"
    },
    "collapsed": true
   },
   "outputs": [],
   "source": [
    "model = Sequential()\n",
    "model.add(Dense(24, activation='relu', input_dim=14))\n",
    "model.add(Dense(1, activation='sigmoid'))\n",
    "model.compile(optimizer='rmsprop',\n",
    "              loss='binary_crossentropy',\n",
    "              metrics=['accuracy'])\n",
    "\n",
    "\n",
    "\n",
    "\n"
   ]
  },
  {
   "cell_type": "code",
   "execution_count": 3,
   "metadata": {
    "ExecuteTime": {
     "end_time": "2018-01-17T22:57:58.917288Z",
     "start_time": "2018-01-17T22:57:58.906517Z"
    }
   },
   "outputs": [],
   "source": [
    "df = pd.read_csv('day.csv')"
   ]
  },
  {
   "cell_type": "code",
   "execution_count": 17,
   "metadata": {
    "ExecuteTime": {
     "end_time": "2018-01-17T23:06:20.036162Z",
     "start_time": "2018-01-17T23:06:20.030431Z"
    },
    "collapsed": true
   },
   "outputs": [],
   "source": [
    "df = df.drop(['dteday'], axis=1)"
   ]
  },
  {
   "cell_type": "code",
   "execution_count": 18,
   "metadata": {
    "ExecuteTime": {
     "end_time": "2018-01-17T23:06:20.775300Z",
     "start_time": "2018-01-17T23:06:20.768159Z"
    },
    "collapsed": true
   },
   "outputs": [],
   "source": [
    "y = np.asarray(df[['instant']])\n",
    "X = np.asarray(df.loc[:, df.columns != 'instant'])"
   ]
  },
  {
   "cell_type": "code",
   "execution_count": 19,
   "metadata": {
    "ExecuteTime": {
     "end_time": "2018-01-17T23:06:21.448560Z",
     "start_time": "2018-01-17T23:06:21.441913Z"
    }
   },
   "outputs": [
    {
     "data": {
      "text/plain": [
       "(731, 1)"
      ]
     },
     "execution_count": 19,
     "metadata": {},
     "output_type": "execute_result"
    }
   ],
   "source": [
    "y.shape"
   ]
  },
  {
   "cell_type": "code",
   "execution_count": 20,
   "metadata": {
    "ExecuteTime": {
     "end_time": "2018-01-17T23:06:22.121350Z",
     "start_time": "2018-01-17T23:06:22.114655Z"
    }
   },
   "outputs": [
    {
     "data": {
      "text/plain": [
       "(731, 14)"
      ]
     },
     "execution_count": 20,
     "metadata": {},
     "output_type": "execute_result"
    }
   ],
   "source": [
    "X.shape"
   ]
  },
  {
   "cell_type": "code",
   "execution_count": 22,
   "metadata": {
    "ExecuteTime": {
     "end_time": "2018-01-17T23:06:40.870227Z",
     "start_time": "2018-01-17T23:06:40.866437Z"
    },
    "collapsed": true
   },
   "outputs": [],
   "source": [
    "tensorboard = TensorBoard(log_dir='./Dropbox/DATA SCIENCE PYTHON/Deep Learning/MODELS/logs/')"
   ]
  },
  {
   "cell_type": "code",
   "execution_count": 31,
   "metadata": {
    "ExecuteTime": {
     "end_time": "2018-01-17T23:15:31.938408Z",
     "start_time": "2018-01-17T23:15:29.973049Z"
    }
   },
   "outputs": [
    {
     "name": "stdout",
     "output_type": "stream",
     "text": [
      "Epoch 1/18\n",
      "731/731 [==============================] - 0s 129us/step - loss: -5808.7936 - acc: 0.0014\n",
      "Epoch 2/18\n",
      "731/731 [==============================] - 0s 100us/step - loss: -5809.9442 - acc: 0.0014\n",
      "Epoch 3/18\n",
      "731/731 [==============================] - 0s 90us/step - loss: -5810.7917 - acc: 0.0014\n",
      "Epoch 4/18\n",
      "731/731 [==============================] - 0s 94us/step - loss: -5811.8673 - acc: 0.0014\n",
      "Epoch 5/18\n",
      "731/731 [==============================] - 0s 81us/step - loss: -5812.9684 - acc: 0.0014\n",
      "Epoch 6/18\n",
      "731/731 [==============================] - 0s 90us/step - loss: -5814.0700 - acc: 0.0014\n",
      "Epoch 7/18\n",
      "731/731 [==============================] - 0s 74us/step - loss: -5814.9607 - acc: 0.0014\n",
      "Epoch 8/18\n",
      "731/731 [==============================] - 0s 87us/step - loss: -5815.9975 - acc: 0.0014\n",
      "Epoch 9/18\n",
      "731/731 [==============================] - 0s 101us/step - loss: -5817.0731 - acc: 0.0014\n",
      "Epoch 10/18\n",
      "731/731 [==============================] - 0s 107us/step - loss: -5817.9680 - acc: 0.0014\n",
      "Epoch 11/18\n",
      "731/731 [==============================] - 0s 95us/step - loss: -5818.9704 - acc: 0.0014\n",
      "Epoch 12/18\n",
      "731/731 [==============================] - 0s 73us/step - loss: -5818.9705 - acc: 0.0014\n",
      "Epoch 13/18\n",
      "731/731 [==============================] - 0s 107us/step - loss: -5818.9704 - acc: 0.0014\n",
      "Epoch 14/18\n",
      "731/731 [==============================] - 0s 99us/step - loss: -5818.9705 - acc: 0.0014\n",
      "Epoch 15/18\n",
      "731/731 [==============================] - 0s 92us/step - loss: -5818.9704 - acc: 0.0014\n",
      "Epoch 16/18\n",
      "731/731 [==============================] - 0s 117us/step - loss: -5818.9704 - acc: 0.0014ETA: 0s - loss: -5957.4315 - acc: 0.0024   \n",
      "Epoch 17/18\n",
      "731/731 [==============================] - 0s 80us/step - loss: -5818.9704 - acc: 0.0014\n",
      "Epoch 18/18\n",
      "731/731 [==============================] - 0s 93us/step - loss: -5818.9704 - acc: 0.0014\n"
     ]
    }
   ],
   "source": [
    "# Train the model, iterating on the data in batches of 32 samples\n",
    "history = model.fit(X, y, epochs=18, batch_size=32, callbacks=[tensorboard])"
   ]
  },
  {
   "cell_type": "code",
   "execution_count": 24,
   "metadata": {
    "ExecuteTime": {
     "end_time": "2018-01-17T23:06:50.941439Z",
     "start_time": "2018-01-17T23:06:50.403687Z"
    }
   },
   "outputs": [
    {
     "data": {
      "image/png": "[encoded data removed]",
      "text/plain": [
       "<matplotlib.figure.Figure at 0x7fe6c4263518>"
      ]
     },
     "metadata": {},
     "output_type": "display_data"
    },
    {
     "data": {
      "image/png": "[encoded data removed]",
      "text/plain": [
       "<matplotlib.figure.Figure at 0x7fe6c41db518>"
      ]
     },
     "metadata": {},
     "output_type": "display_data"
    }
   ],
   "source": [
    "\n",
    "# summarize history for accuracy\n",
    "plt.plot(history.history['acc'])\n",
    "plt.title('model accuracy')\n",
    "plt.ylabel('accuracy')\n",
    "plt.xlabel('epoch')\n",
    "plt.legend(['train', 'test'], loc='upper left')\n",
    "plt.show()\n",
    "# summarize history for loss\n",
    "plt.plot(history.history['loss'])\n",
    "plt.title('model loss')\n",
    "plt.ylabel('loss')\n",
    "plt.xlabel('epoch')\n",
    "plt.legend(['train', 'test'], loc='upper left')\n",
    "plt.show()"
   ]
  },
  {
   "cell_type": "code",
   "execution_count": null,
   "metadata": {
    "collapsed": true
   },
   "outputs": [],
   "source": []
  }
 ],
 "metadata": {
  "kernelspec": {
   "display_name": "Python 3",
   "language": "python",
   "name": "python3"
  },
  "language_info": {
   "codemirror_mode": {
    "name": "ipython",
    "version": 3
   },
   "file_extension": ".py",
   "mimetype": "text/x-python",
   "name": "python",
   "nbconvert_exporter": "python",
   "pygments_lexer": "ipython3",
   "version": "3.6.3"
  },
  "nbTranslate": {
   "displayLangs": [
    "*"
   ],
   "hotkey": "alt-t",
   "langInMainMenu": true,
   "sourceLang": "en",
   "targetLang": "fr",
   "useGoogleTranslate": true
  },
  "toc": {
   "nav_menu": {},
   "number_sections": true,
   "sideBar": true,
   "skip_h1_title": false,
   "toc_cell": false,
   "toc_position": {},
   "toc_section_display": "block",
   "toc_window_display": false
  },
  "varInspector": {
   "cols": {
    "lenName": 16,
    "lenType": 16,
    "lenVar": 40
   },
   "kernels_config": {
    "python": {
     "delete_cmd_postfix": "",
     "delete_cmd_prefix": "del ",
     "library": "var_list.py",
     "varRefreshCmd": "print(var_dic_list())"
    },
    "r": {
     "delete_cmd_postfix": ") ",
     "delete_cmd_prefix": "rm(",
     "library": "var_list.r",
     "varRefreshCmd": "cat(var_dic_list()) "
    }
   },
   "types_to_exclude": [
    "module",
    "function",
    "builtin_function_or_method",
    "instance",
    "_Feature"
   ],
   "window_display": false
  }
 },
 "nbformat": 4,
 "nbformat_minor": 2
}
