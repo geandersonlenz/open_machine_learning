{
 "cells": [
  {
   "cell_type": "markdown",
   "metadata": {},
   "source": [
    "AdaBoostClassifier - OK\n",
    "BaggingClassifier\n",
    "BernoulliNB\n",
    "CalibratedClassifierCV\n",
    "DecisionTreeClassifier - OK\n",
    "ExtraTreeClassifier\n",
    "ExtraTreesClassifier\n",
    "GaussianNB - OK\n",
    "GaussianProcessClassifier\n",
    "GradientBoostingClassifier - OK\n",
    "KNeighborsClassifier - OK\n",
    "LabelPropagation\n",
    "LabelSpreading\n",
    "LinearDiscriminantAnalysis\n",
    "LinearSVC\n",
    "LogisticRegression - OK\n",
    "LogisticRegressionCV\n",
    "MLPClassifier - OK\n",
    "MultinomialNB\n",
    "NearestCentroid\n",
    "NuSVC\n",
    "PassiveAggressiveClassifier\n",
    "Perceptron\n",
    "QuadraticDiscriminantAnalysis - OK\n",
    "RadiusNeighborsClassifier\n",
    "RandomForestClassifier - OK\n",
    "RidgeClassifier\n",
    "RidgeClassifierCV\n",
    "SGDClassifier\n",
    "SVC - OK"
   ]
  },
  {
   "cell_type": "code",
   "execution_count": 71,
   "metadata": {
    "ExecuteTime": {
     "end_time": "2018-09-27T13:35:45.513183Z",
     "start_time": "2018-09-27T13:35:45.469946Z"
    }
   },
   "outputs": [
    {
     "name": "stdout",
     "output_type": "stream",
     "text": [
      "Automatically created module for IPython interactive environment\n"
     ]
    }
   ],
   "source": [
    "#!/usr/bin/python\n",
    "# -*- coding: utf-8 -*-\n",
    "\n",
    "print(__doc__)\n",
    "\n",
    "import pandas as pd\n",
    "import numpy as np\n",
    "import matplotlib.pyplot as plt\n",
    "from matplotlib.colors import ListedColormap\n",
    "from sklearn.model_selection import train_test_split\n",
    "from sklearn.preprocessing import StandardScaler\n",
    "from sklearn.neural_network import MLPClassifier\n",
    "from sklearn.neighbors import KNeighborsClassifier\n",
    "from sklearn.svm import SVC\n",
    "from sklearn.gaussian_process import GaussianProcessClassifier\n",
    "from sklearn.gaussian_process.kernels import RBF\n",
    "from sklearn.tree import DecisionTreeClassifier\n",
    "from sklearn.ensemble import RandomForestClassifier, AdaBoostClassifier, BaggingClassifier, GradientBoostingClassifier\n",
    "from sklearn.naive_bayes import GaussianNB\n",
    "from sklearn.discriminant_analysis import QuadraticDiscriminantAnalysis\n",
    "from sklearn.linear_model import LogisticRegression\n",
    "\n",
    "from sklearn.model_selection import train_test_split\n",
    "\n",
    "\n",
    "from time import time\n",
    "import numpy as np\n",
    "import pandas as pd\n",
    "import os\n",
    "from sklearn.preprocessing import RobustScaler, StandardScaler, LabelEncoder\n",
    "\n",
    "import warnings\n",
    "warnings.filterwarnings('ignore')\n"
   ]
  },
  {
   "cell_type": "code",
   "execution_count": 37,
   "metadata": {
    "ExecuteTime": {
     "end_time": "2018-09-27T13:13:20.391541Z",
     "start_time": "2018-09-27T13:13:20.375683Z"
    }
   },
   "outputs": [],
   "source": [
    "df = pd.read_csv(\"top_products.csv\")"
   ]
  },
  {
   "cell_type": "code",
   "execution_count": 38,
   "metadata": {
    "ExecuteTime": {
     "end_time": "2018-09-27T13:13:37.990934Z",
     "start_time": "2018-09-27T13:13:37.981106Z"
    }
   },
   "outputs": [],
   "source": [
    "df['target'] = np.random.randint(2, size=len(df))\n"
   ]
  },
  {
   "cell_type": "code",
   "execution_count": 39,
   "metadata": {
    "ExecuteTime": {
     "end_time": "2018-09-27T13:13:41.542191Z",
     "start_time": "2018-09-27T13:13:41.520463Z"
    }
   },
   "outputs": [
    {
     "data": {
      "text/html": [
       "<div>\n",
       "<style scoped>\n",
       "    .dataframe tbody tr th:only-of-type {\n",
       "        vertical-align: middle;\n",
       "    }\n",
       "\n",
       "    .dataframe tbody tr th {\n",
       "        vertical-align: top;\n",
       "    }\n",
       "\n",
       "    .dataframe thead th {\n",
       "        text-align: right;\n",
       "    }\n",
       "</style>\n",
       "<table border=\"1\" class=\"dataframe\">\n",
       "  <thead>\n",
       "    <tr style=\"text-align: right;\">\n",
       "      <th></th>\n",
       "      <th>Top1</th>\n",
       "      <th>Top2</th>\n",
       "      <th>Top3</th>\n",
       "      <th>Top4</th>\n",
       "      <th>Preco</th>\n",
       "      <th>Quantidade</th>\n",
       "      <th>Promotion</th>\n",
       "      <th>Receita</th>\n",
       "      <th>Clima</th>\n",
       "      <th>target</th>\n",
       "    </tr>\n",
       "  </thead>\n",
       "  <tbody>\n",
       "    <tr>\n",
       "      <th>0</th>\n",
       "      <td>Carbonated Water - Blackberry</td>\n",
       "      <td>Soup - Campbells Tomato Ravioli</td>\n",
       "      <td>Wine - Crozes Hermitage E.</td>\n",
       "      <td>Bread - Sour Batard</td>\n",
       "      <td>17</td>\n",
       "      <td>7</td>\n",
       "      <td>1</td>\n",
       "      <td>234</td>\n",
       "      <td>3</td>\n",
       "      <td>1</td>\n",
       "    </tr>\n",
       "    <tr>\n",
       "      <th>1</th>\n",
       "      <td>Puff Pastry - Slab</td>\n",
       "      <td>Soup - Campbells Mushroom</td>\n",
       "      <td>Gatorade - Cool Blue Raspberry</td>\n",
       "      <td>Cookie - Oreo 100x2</td>\n",
       "      <td>78</td>\n",
       "      <td>2</td>\n",
       "      <td>1</td>\n",
       "      <td>318</td>\n",
       "      <td>1</td>\n",
       "      <td>1</td>\n",
       "    </tr>\n",
       "    <tr>\n",
       "      <th>2</th>\n",
       "      <td>Wine - Stoneliegh Sauvignon</td>\n",
       "      <td>Momiji Oroshi Chili Sauce</td>\n",
       "      <td>Vodka - Moskovskaya</td>\n",
       "      <td>Coffee - Almond Amaretto</td>\n",
       "      <td>100</td>\n",
       "      <td>4</td>\n",
       "      <td>1</td>\n",
       "      <td>476</td>\n",
       "      <td>2</td>\n",
       "      <td>1</td>\n",
       "    </tr>\n",
       "    <tr>\n",
       "      <th>3</th>\n",
       "      <td>Baking Soda</td>\n",
       "      <td>Icecream - Dstk Cml And Fdg</td>\n",
       "      <td>Artichoke - Bottom, Canned</td>\n",
       "      <td>Bread - Hamburger Buns</td>\n",
       "      <td>40</td>\n",
       "      <td>6</td>\n",
       "      <td>1</td>\n",
       "      <td>438</td>\n",
       "      <td>2</td>\n",
       "      <td>1</td>\n",
       "    </tr>\n",
       "    <tr>\n",
       "      <th>4</th>\n",
       "      <td>Wine - Soave Folonari</td>\n",
       "      <td>Couscous</td>\n",
       "      <td>Bread - Pumpernickel</td>\n",
       "      <td>Wine - Casillero Del Diablo</td>\n",
       "      <td>61</td>\n",
       "      <td>2</td>\n",
       "      <td>1</td>\n",
       "      <td>492</td>\n",
       "      <td>4</td>\n",
       "      <td>1</td>\n",
       "    </tr>\n",
       "  </tbody>\n",
       "</table>\n",
       "</div>"
      ],
      "text/plain": [
       "                            Top1                             Top2  \\\n",
       "0  Carbonated Water - Blackberry  Soup - Campbells Tomato Ravioli   \n",
       "1             Puff Pastry - Slab        Soup - Campbells Mushroom   \n",
       "2    Wine - Stoneliegh Sauvignon        Momiji Oroshi Chili Sauce   \n",
       "3                    Baking Soda      Icecream - Dstk Cml And Fdg   \n",
       "4          Wine - Soave Folonari                         Couscous   \n",
       "\n",
       "                             Top3                         Top4  Preco  \\\n",
       "0      Wine - Crozes Hermitage E.          Bread - Sour Batard     17   \n",
       "1  Gatorade - Cool Blue Raspberry          Cookie - Oreo 100x2     78   \n",
       "2             Vodka - Moskovskaya     Coffee - Almond Amaretto    100   \n",
       "3      Artichoke - Bottom, Canned       Bread - Hamburger Buns     40   \n",
       "4            Bread - Pumpernickel  Wine - Casillero Del Diablo     61   \n",
       "\n",
       "   Quantidade  Promotion  Receita  Clima  target  \n",
       "0           7          1      234      3       1  \n",
       "1           2          1      318      1       1  \n",
       "2           4          1      476      2       1  \n",
       "3           6          1      438      2       1  \n",
       "4           2          1      492      4       1  "
      ]
     },
     "execution_count": 39,
     "metadata": {},
     "output_type": "execute_result"
    }
   ],
   "source": [
    "df.head()"
   ]
  },
  {
   "cell_type": "code",
   "execution_count": 40,
   "metadata": {
    "ExecuteTime": {
     "end_time": "2018-09-27T13:14:00.189955Z",
     "start_time": "2018-09-27T13:14:00.180201Z"
    }
   },
   "outputs": [],
   "source": [
    "y = df['target'].values\n",
    "X = df.drop(['target'], axis=1)"
   ]
  },
  {
   "cell_type": "code",
   "execution_count": 41,
   "metadata": {
    "ExecuteTime": {
     "end_time": "2018-09-27T13:14:30.696388Z",
     "start_time": "2018-09-27T13:14:30.672629Z"
    }
   },
   "outputs": [],
   "source": [
    "class MultiColumnLabelEncoder:\n",
    "    \n",
    "    def __init__(self,columns = None):\n",
    "        self.columns = columns # array of column names to encode\n",
    "\n",
    "    def fit(self,X,y=None):\n",
    "        return self # not relevant here\n",
    "\n",
    "    def transform(self,X):\n",
    "        '''\n",
    "        Transforms columns of X specified in self.columns using\n",
    "        LabelEncoder(). If no columns specified, transforms all\n",
    "        columns in X.\n",
    "        '''\n",
    "        output = X.copy()\n",
    "        if self.columns is not None:\n",
    "            for col in self.columns:\n",
    "                output[col] = LabelEncoder().fit_transform(output[col])\n",
    "        else:\n",
    "            for colname,col in output.iteritems():\n",
    "                output[colname] = LabelEncoder().fit_transform(col)\n",
    "        return output\n",
    "\n",
    "    def fit_transform(self,X,y=None):\n",
    "        return self.fit(X,y).transform(X)\n"
   ]
  },
  {
   "cell_type": "code",
   "execution_count": 42,
   "metadata": {
    "ExecuteTime": {
     "end_time": "2018-09-27T13:14:55.431859Z",
     "start_time": "2018-09-27T13:14:55.426523Z"
    }
   },
   "outputs": [],
   "source": [
    "transform = MultiColumnLabelEncoder()"
   ]
  },
  {
   "cell_type": "code",
   "execution_count": 43,
   "metadata": {
    "ExecuteTime": {
     "end_time": "2018-09-27T13:15:10.305925Z",
     "start_time": "2018-09-27T13:15:10.290742Z"
    }
   },
   "outputs": [],
   "source": [
    "X = transform.transform(X)"
   ]
  },
  {
   "cell_type": "code",
   "execution_count": 45,
   "metadata": {
    "ExecuteTime": {
     "end_time": "2018-09-27T13:15:29.181307Z",
     "start_time": "2018-09-27T13:15:29.172756Z"
    }
   },
   "outputs": [],
   "source": [
    "X_train, X_test, y_train, y_test = train_test_split(X, y, test_size=0.2, random_state=42)"
   ]
  },
  {
   "cell_type": "code",
   "execution_count": 46,
   "metadata": {
    "ExecuteTime": {
     "end_time": "2018-09-27T13:15:29.839092Z",
     "start_time": "2018-09-27T13:15:29.833629Z"
    }
   },
   "outputs": [],
   "source": [
    "names = [\"Bagging\", \"Nearest Neighbors\", \"Linear SVM\", \"RBF SVM\", \"Gaussian Process\",\n",
    "         \"Decision Tree\", \"Random Forest\", \"Neural Net\", \"AdaBoost\",\n",
    "         \"Naive Bayes\", \"QDA\", \"Logistic Regression\", \"Gradient Boosting\", \"Neural Net\"]\n"
   ]
  },
  {
   "cell_type": "code",
   "execution_count": 63,
   "metadata": {
    "ExecuteTime": {
     "end_time": "2018-09-27T13:26:36.495869Z",
     "start_time": "2018-09-27T13:26:36.481997Z"
    }
   },
   "outputs": [],
   "source": [
    "\n",
    "classifiers = [\n",
    "    BaggingClassifier(),\n",
    "    KNeighborsClassifier(3),\n",
    "    SVC(kernel=\"linear\", C=0.025),\n",
    "    SVC(gamma=2, C=1),\n",
    "    GaussianProcessClassifier(1.0 * RBF(1.0)),\n",
    "    DecisionTreeClassifier(max_depth=5),\n",
    "    RandomForestClassifier(max_depth=5, n_estimators=10, max_features=1),\n",
    "    MLPClassifier(alpha=1),\n",
    "    AdaBoostClassifier(),\n",
    "    GaussianNB(),\n",
    "    QuadraticDiscriminantAnalysis(),\n",
    "    LogisticRegression(),\n",
    "    GradientBoostingClassifier(n_estimators=50),\n",
    "    MLPClassifier(alpha=1)\n",
    "                            ]\n"
   ]
  },
  {
   "cell_type": "code",
   "execution_count": 76,
   "metadata": {
    "ExecuteTime": {
     "end_time": "2018-09-27T13:39:50.475393Z",
     "start_time": "2018-09-27T13:39:50.401972Z"
    }
   },
   "outputs": [],
   "source": [
    "class Classifiers():\n",
    "    \n",
    "    def __init__(self):\n",
    "        pass\n",
    "    \n",
    "    def training(self, X_train, y_train, X_test, y_test):\n",
    "        \"\"\"\n",
    "        fitting the traing set in the models\n",
    "        \"\"\"\n",
    "        lista = []\n",
    "        for name, clf in zip(names, classifiers):\n",
    "            t_start = time.clock()\n",
    "            fit = clf.fit(X_train, y_train)\n",
    "            t_end = time.clock()\n",
    "            t_diff = t_end - t_start\n",
    "            score_test = fit.score(X_test, y_test)\n",
    "            score_train = fit.score(X_train, y_train)\n",
    "            results = (name, score_test, score_train, t_diff)\n",
    "            lista.append(results)\n",
    "        results = sorted(lista, key=lambda x: x[1], reverse=True)\n",
    "        for a, b in results:\n",
    "            print (\"Modelo\", a,\"tem score igual a: {:.1%}\".format(b))\n",
    "            \n",
    "    def trainingtime(self, X_train, y_train, X_test, y_test):\n",
    "        \"\"\"\n",
    "        fitting the traing set in the models\n",
    "        \"\"\"\n",
    "        lista = []\n",
    "        for name, clf in tqdm_notebook(zip(names, classifiers), desc=\"Running:\"):\n",
    "            t_start = time()\n",
    "            fit = clf.fit(X_train, y_train)\n",
    "            t_end = time()\n",
    "            t_diff = t_end - t_start\n",
    "            score_test = fit.score(X_test, y_test)\n",
    "            score_train = fit.score(X_train, y_train)\n",
    "            results = (name, score_test, score_train, t_diff)\n",
    "            lista.append(results)\n",
    "        results = sorted(lista, key=lambda x: x[1], reverse=True)\n",
    "        labels = ['Algoritmo', 'Test Score', 'Train Score', 'Training Time']\n",
    "        df = pd.DataFrame.from_records(results, columns=labels)\n",
    "        return df"
   ]
  },
  {
   "cell_type": "code",
   "execution_count": 77,
   "metadata": {
    "ExecuteTime": {
     "end_time": "2018-09-27T13:39:50.935736Z",
     "start_time": "2018-09-27T13:39:50.931949Z"
    }
   },
   "outputs": [],
   "source": [
    "classificadores = Classifiers()"
   ]
  },
  {
   "cell_type": "code",
   "execution_count": 78,
   "metadata": {
    "ExecuteTime": {
     "end_time": "2018-09-27T13:39:55.452360Z",
     "start_time": "2018-09-27T13:39:51.908790Z"
    }
   },
   "outputs": [
    {
     "data": {
      "application/vnd.jupyter.widget-view+json": {
       "model_id": "5eb9527435eb4116865093ff40b9de7d",
       "version_major": 2,
       "version_minor": 0
      },
      "text/html": [
       "<p>Failed to display Jupyter Widget of type <code>HBox</code>.</p>\n",
       "<p>\n",
       "  If you're reading this message in the Jupyter Notebook or JupyterLab Notebook, it may mean\n",
       "  that the widgets JavaScript is still loading. If this message persists, it\n",
       "  likely means that the widgets JavaScript library is either not installed or\n",
       "  not enabled. See the <a href=\"https://ipywidgets.readthedocs.io/en/stable/user_install.html\">Jupyter\n",
       "  Widgets Documentation</a> for setup instructions.\n",
       "</p>\n",
       "<p>\n",
       "  If you're reading this message in another frontend (for example, a static\n",
       "  rendering on GitHub or <a href=\"https://nbviewer.jupyter.org/\">NBViewer</a>),\n",
       "  it may mean that your frontend doesn't currently support widgets.\n",
       "</p>\n"
      ],
      "text/plain": [
       "HBox(children=(IntProgress(value=1, bar_style='info', description='Running Algorithms', max=1), HTML(value='')))"
      ]
     },
     "metadata": {},
     "output_type": "display_data"
    },
    {
     "name": "stdout",
     "output_type": "stream",
     "text": [
      "\n"
     ]
    }
   ],
   "source": [
    "beta = classificadores.trainingtime(X_train, y_train, X_test, y_test)"
   ]
  },
  {
   "cell_type": "code",
   "execution_count": 75,
   "metadata": {
    "ExecuteTime": {
     "end_time": "2018-09-27T13:36:13.980494Z",
     "start_time": "2018-09-27T13:36:13.962189Z"
    }
   },
   "outputs": [
    {
     "data": {
      "text/html": [
       "<div>\n",
       "<style scoped>\n",
       "    .dataframe tbody tr th:only-of-type {\n",
       "        vertical-align: middle;\n",
       "    }\n",
       "\n",
       "    .dataframe tbody tr th {\n",
       "        vertical-align: top;\n",
       "    }\n",
       "\n",
       "    .dataframe thead th {\n",
       "        text-align: right;\n",
       "    }\n",
       "</style>\n",
       "<table border=\"1\" class=\"dataframe\">\n",
       "  <thead>\n",
       "    <tr style=\"text-align: right;\">\n",
       "      <th></th>\n",
       "      <th>Algoritmo</th>\n",
       "      <th>Test Score</th>\n",
       "      <th>Train Score</th>\n",
       "      <th>Training Time</th>\n",
       "    </tr>\n",
       "  </thead>\n",
       "  <tbody>\n",
       "    <tr>\n",
       "      <th>0</th>\n",
       "      <td>RBF SVM</td>\n",
       "      <td>0.545</td>\n",
       "      <td>1.00000</td>\n",
       "      <td>0.019366</td>\n",
       "    </tr>\n",
       "    <tr>\n",
       "      <th>1</th>\n",
       "      <td>QDA</td>\n",
       "      <td>0.540</td>\n",
       "      <td>0.49625</td>\n",
       "      <td>0.001161</td>\n",
       "    </tr>\n",
       "    <tr>\n",
       "      <th>2</th>\n",
       "      <td>Gradient Boosting</td>\n",
       "      <td>0.530</td>\n",
       "      <td>0.81250</td>\n",
       "      <td>0.049756</td>\n",
       "    </tr>\n",
       "    <tr>\n",
       "      <th>3</th>\n",
       "      <td>Random Forest</td>\n",
       "      <td>0.515</td>\n",
       "      <td>0.71750</td>\n",
       "      <td>0.015693</td>\n",
       "    </tr>\n",
       "    <tr>\n",
       "      <th>4</th>\n",
       "      <td>Naive Bayes</td>\n",
       "      <td>0.510</td>\n",
       "      <td>0.55500</td>\n",
       "      <td>0.001468</td>\n",
       "    </tr>\n",
       "    <tr>\n",
       "      <th>5</th>\n",
       "      <td>Linear SVM</td>\n",
       "      <td>0.500</td>\n",
       "      <td>0.54250</td>\n",
       "      <td>2.454969</td>\n",
       "    </tr>\n",
       "    <tr>\n",
       "      <th>6</th>\n",
       "      <td>Neural Net</td>\n",
       "      <td>0.495</td>\n",
       "      <td>0.58250</td>\n",
       "      <td>0.142615</td>\n",
       "    </tr>\n",
       "    <tr>\n",
       "      <th>7</th>\n",
       "      <td>Logistic Regression</td>\n",
       "      <td>0.490</td>\n",
       "      <td>0.54125</td>\n",
       "      <td>0.005864</td>\n",
       "    </tr>\n",
       "    <tr>\n",
       "      <th>8</th>\n",
       "      <td>Decision Tree</td>\n",
       "      <td>0.470</td>\n",
       "      <td>0.65875</td>\n",
       "      <td>0.003385</td>\n",
       "    </tr>\n",
       "    <tr>\n",
       "      <th>9</th>\n",
       "      <td>Neural Net</td>\n",
       "      <td>0.465</td>\n",
       "      <td>0.59000</td>\n",
       "      <td>0.147623</td>\n",
       "    </tr>\n",
       "    <tr>\n",
       "      <th>10</th>\n",
       "      <td>Gaussian Process</td>\n",
       "      <td>0.460</td>\n",
       "      <td>1.00000</td>\n",
       "      <td>0.480486</td>\n",
       "    </tr>\n",
       "    <tr>\n",
       "      <th>11</th>\n",
       "      <td>AdaBoost</td>\n",
       "      <td>0.455</td>\n",
       "      <td>0.67500</td>\n",
       "      <td>0.087925</td>\n",
       "    </tr>\n",
       "    <tr>\n",
       "      <th>12</th>\n",
       "      <td>Nearest Neighbors</td>\n",
       "      <td>0.440</td>\n",
       "      <td>0.72125</td>\n",
       "      <td>0.000778</td>\n",
       "    </tr>\n",
       "    <tr>\n",
       "      <th>13</th>\n",
       "      <td>Bagging</td>\n",
       "      <td>0.430</td>\n",
       "      <td>0.98875</td>\n",
       "      <td>0.072507</td>\n",
       "    </tr>\n",
       "  </tbody>\n",
       "</table>\n",
       "</div>"
      ],
      "text/plain": [
       "              Algoritmo  Test Score  Train Score  Training Time\n",
       "0               RBF SVM       0.545      1.00000       0.019366\n",
       "1                   QDA       0.540      0.49625       0.001161\n",
       "2     Gradient Boosting       0.530      0.81250       0.049756\n",
       "3         Random Forest       0.515      0.71750       0.015693\n",
       "4           Naive Bayes       0.510      0.55500       0.001468\n",
       "5            Linear SVM       0.500      0.54250       2.454969\n",
       "6            Neural Net       0.495      0.58250       0.142615\n",
       "7   Logistic Regression       0.490      0.54125       0.005864\n",
       "8         Decision Tree       0.470      0.65875       0.003385\n",
       "9            Neural Net       0.465      0.59000       0.147623\n",
       "10     Gaussian Process       0.460      1.00000       0.480486\n",
       "11             AdaBoost       0.455      0.67500       0.087925\n",
       "12    Nearest Neighbors       0.440      0.72125       0.000778\n",
       "13              Bagging       0.430      0.98875       0.072507"
      ]
     },
     "execution_count": 75,
     "metadata": {},
     "output_type": "execute_result"
    }
   ],
   "source": [
    "beta"
   ]
  },
  {
   "cell_type": "code",
   "execution_count": null,
   "metadata": {},
   "outputs": [],
   "source": []
  }
 ],
 "metadata": {
  "hide_input": false,
  "kernelspec": {
   "display_name": "Python 3",
   "language": "python",
   "name": "python3"
  },
  "language_info": {
   "codemirror_mode": {
    "name": "ipython",
    "version": 3
   },
   "file_extension": ".py",
   "mimetype": "text/x-python",
   "name": "python",
   "nbconvert_exporter": "python",
   "pygments_lexer": "ipython3",
   "version": "3.6.4"
  }
 },
 "nbformat": 4,
 "nbformat_minor": 2
}
