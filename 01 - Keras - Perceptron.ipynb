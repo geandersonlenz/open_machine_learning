{
 "cells": [
  {
   "cell_type": "code",
   "execution_count": 69,
   "metadata": {
    "ExecuteTime": {
     "end_time": "2018-01-17T22:12:49.037427Z",
     "start_time": "2018-01-17T22:12:47.630733Z"
    }
   },
   "outputs": [],
   "source": [
    "from time import time\n",
    "from keras.models import Sequential\n",
    "from keras.layers import Dense, Activation\n",
    "from keras.layers import LSTM\n",
    "from keras.callbacks import TensorBoard\n",
    "from sklearn.model_selection import train_test_split\n",
    "from sklearn.preprocessing import StandardScaler\n",
    "import pandas as pd\n",
    "import numpy as np\n",
    "import matplotlib.pyplot as plt\n",
    "%matplotlib inline"
   ]
  },
  {
   "cell_type": "code",
   "execution_count": 70,
   "metadata": {
    "ExecuteTime": {
     "end_time": "2018-01-17T22:13:45.321110Z",
     "start_time": "2018-01-17T22:13:45.231113Z"
    },
    "collapsed": true
   },
   "outputs": [],
   "source": [
    "model = Sequential()\n",
    "model.add(Dense(32, activation='relu', input_dim=100))\n",
    "model.add(Dense(1, activation='sigmoid'))\n",
    "model.compile(optimizer='rmsprop',\n",
    "              loss='binary_crossentropy',\n",
    "              metrics=['accuracy'])\n",
    "\n",
    "\n",
    "\n",
    "\n"
   ]
  },
  {
   "cell_type": "code",
   "execution_count": 59,
   "metadata": {
    "ExecuteTime": {
     "end_time": "2018-01-17T22:07:42.998215Z",
     "start_time": "2018-01-17T22:07:42.987040Z"
    },
    "collapsed": true
   },
   "outputs": [],
   "source": [
    "# Generate dummy data\n",
    "import numpy as np\n",
    "data = np.random.random((1000, 100))\n",
    "labels = np.random.randint(2, size=(1000, 1))"
   ]
  },
  {
   "cell_type": "code",
   "execution_count": 60,
   "metadata": {
    "ExecuteTime": {
     "end_time": "2018-01-17T22:07:43.559945Z",
     "start_time": "2018-01-17T22:07:43.553683Z"
    }
   },
   "outputs": [
    {
     "data": {
      "text/plain": [
       "(1000, 100)"
      ]
     },
     "execution_count": 60,
     "metadata": {},
     "output_type": "execute_result"
    }
   ],
   "source": [
    "data.shape"
   ]
  },
  {
   "cell_type": "code",
   "execution_count": 61,
   "metadata": {
    "ExecuteTime": {
     "end_time": "2018-01-17T22:07:44.198452Z",
     "start_time": "2018-01-17T22:07:44.191574Z"
    }
   },
   "outputs": [
    {
     "data": {
      "text/plain": [
       "(1000, 1)"
      ]
     },
     "execution_count": 61,
     "metadata": {},
     "output_type": "execute_result"
    }
   ],
   "source": [
    "labels.shape"
   ]
  },
  {
   "cell_type": "code",
   "execution_count": 96,
   "metadata": {
    "ExecuteTime": {
     "end_time": "2018-01-17T22:55:13.685178Z",
     "start_time": "2018-01-17T22:55:13.681340Z"
    },
    "collapsed": true
   },
   "outputs": [],
   "source": [
    "tensorboard = TensorBoard(log_dir='./Dropbox/DATA SCIENCE PYTHON/Deep Learning/MODELS/logs/')"
   ]
  },
  {
   "cell_type": "code",
   "execution_count": 97,
   "metadata": {
    "ExecuteTime": {
     "end_time": "2018-01-17T22:55:16.353343Z",
     "start_time": "2018-01-17T22:55:14.173364Z"
    }
   },
   "outputs": [
    {
     "name": "stdout",
     "output_type": "stream",
     "text": [
      "Epoch 1/18\n",
      "1000/1000 [==============================] - 0s 82us/step - loss: 0.1815 - acc: 0.9770\n",
      "Epoch 2/18\n",
      "1000/1000 [==============================] - 0s 81us/step - loss: 0.1770 - acc: 0.9780\n",
      "Epoch 3/18\n",
      "1000/1000 [==============================] - 0s 83us/step - loss: 0.1763 - acc: 0.9720\n",
      "Epoch 4/18\n",
      "1000/1000 [==============================] - 0s 83us/step - loss: 0.1751 - acc: 0.9740\n",
      "Epoch 5/18\n",
      "1000/1000 [==============================] - 0s 82us/step - loss: 0.1700 - acc: 0.9740\n",
      "Epoch 6/18\n",
      "1000/1000 [==============================] - 0s 82us/step - loss: 0.1695 - acc: 0.9790\n",
      "Epoch 7/18\n",
      "1000/1000 [==============================] - 0s 77us/step - loss: 0.1687 - acc: 0.9790\n",
      "Epoch 8/18\n",
      "1000/1000 [==============================] - 0s 88us/step - loss: 0.1613 - acc: 0.9820\n",
      "Epoch 9/18\n",
      "1000/1000 [==============================] - 0s 76us/step - loss: 0.1606 - acc: 0.9850\n",
      "Epoch 10/18\n",
      "1000/1000 [==============================] - 0s 92us/step - loss: 0.1613 - acc: 0.9810\n",
      "Epoch 11/18\n",
      "1000/1000 [==============================] - 0s 90us/step - loss: 0.1564 - acc: 0.9800\n",
      "Epoch 12/18\n",
      "1000/1000 [==============================] - 0s 104us/step - loss: 0.1559 - acc: 0.9820\n",
      "Epoch 13/18\n",
      "1000/1000 [==============================] - 0s 131us/step - loss: 0.1521 - acc: 0.9880\n",
      "Epoch 14/18\n",
      "1000/1000 [==============================] - 0s 135us/step - loss: 0.1520 - acc: 0.9780\n",
      "Epoch 15/18\n",
      "1000/1000 [==============================] - 0s 116us/step - loss: 0.1431 - acc: 0.9930\n",
      "Epoch 16/18\n",
      "1000/1000 [==============================] - 0s 96us/step - loss: 0.1458 - acc: 0.9890\n",
      "Epoch 17/18\n",
      "1000/1000 [==============================] - 0s 81us/step - loss: 0.1537 - acc: 0.9790\n",
      "Epoch 18/18\n",
      "1000/1000 [==============================] - 0s 94us/step - loss: 0.1397 - acc: 0.9930\n"
     ]
    }
   ],
   "source": [
    "# Train the model, iterating on the data in batches of 32 samples\n",
    "history = model.fit(data, labels, epochs=18, batch_size=32, callbacks=[tensorboard])"
   ]
  },
  {
   "cell_type": "code",
   "execution_count": 94,
   "metadata": {
    "ExecuteTime": {
     "end_time": "2018-01-17T22:51:59.785954Z",
     "start_time": "2018-01-17T22:51:59.389757Z"
    }
   },
   "outputs": [
    {
     "data": {
      "image/png": "[encoded data removed]",
      "text/plain": [
       "<matplotlib.figure.Figure at 0x7fabc8865668>"
      ]
     },
     "metadata": {},
     "output_type": "display_data"
    },
    {
     "data": {
      "image/png": "[encoded data removed]",
      "text/plain": [
       "<matplotlib.figure.Figure at 0x7fabc8253e80>"
      ]
     },
     "metadata": {},
     "output_type": "display_data"
    }
   ],
   "source": [
    "\n",
    "# summarize history for accuracy\n",
    "plt.plot(history.history['acc'])\n",
    "plt.title('model accuracy')\n",
    "plt.ylabel('accuracy')\n",
    "plt.xlabel('epoch')\n",
    "plt.legend(['train', 'test'], loc='upper left')\n",
    "plt.show()\n",
    "# summarize history for loss\n",
    "plt.plot(history.history['loss'])\n",
    "plt.title('model loss')\n",
    "plt.ylabel('loss')\n",
    "plt.xlabel('epoch')\n",
    "plt.legend(['train', 'test'], loc='upper left')\n",
    "plt.show()"
   ]
  },
  {
   "cell_type": "code",
   "execution_count": 67,
   "metadata": {
    "ExecuteTime": {
     "end_time": "2018-01-17T22:10:07.915907Z",
     "start_time": "2018-01-17T22:10:07.909368Z"
    },
    "scrolled": true
   },
   "outputs": [
    {
     "ename": "SyntaxError",
     "evalue": "invalid syntax (<ipython-input-67-aee1f99c67c8>, line 1)",
     "output_type": "error",
     "traceback": [
      "\u001b[0;36m  File \u001b[0;32m\"<ipython-input-67-aee1f99c67c8>\"\u001b[0;36m, line \u001b[0;32m1\u001b[0m\n\u001b[0;31m    tensorboard --logdir=logs/\u001b[0m\n\u001b[0m                              ^\u001b[0m\n\u001b[0;31mSyntaxError\u001b[0m\u001b[0;31m:\u001b[0m invalid syntax\n"
     ]
    }
   ],
   "source": [
    "tensorboard --logdir=logs/"
   ]
  },
  {
   "cell_type": "code",
   "execution_count": null,
   "metadata": {
    "collapsed": true
   },
   "outputs": [],
   "source": []
  }
 ],
 "metadata": {
  "kernelspec": {
   "display_name": "Python 3",
   "language": "python",
   "name": "python3"
  },
  "language_info": {
   "codemirror_mode": {
    "name": "ipython",
    "version": 3
   },
   "file_extension": ".py",
   "mimetype": "text/x-python",
   "name": "python",
   "nbconvert_exporter": "python",
   "pygments_lexer": "ipython3",
   "version": "3.6.3"
  },
  "nbTranslate": {
   "displayLangs": [
    "*"
   ],
   "hotkey": "alt-t",
   "langInMainMenu": true,
   "sourceLang": "en",
   "targetLang": "fr",
   "useGoogleTranslate": true
  },
  "toc": {
   "nav_menu": {},
   "number_sections": true,
   "sideBar": true,
   "skip_h1_title": false,
   "toc_cell": false,
   "toc_position": {},
   "toc_section_display": "block",
   "toc_window_display": false
  },
  "varInspector": {
   "cols": {
    "lenName": 16,
    "lenType": 16,
    "lenVar": 40
   },
   "kernels_config": {
    "python": {
     "delete_cmd_postfix": "",
     "delete_cmd_prefix": "del ",
     "library": "var_list.py",
     "varRefreshCmd": "print(var_dic_list())"
    },
    "r": {
     "delete_cmd_postfix": ") ",
     "delete_cmd_prefix": "rm(",
     "library": "var_list.r",
     "varRefreshCmd": "cat(var_dic_list()) "
    }
   },
   "types_to_exclude": [
    "module",
    "function",
    "builtin_function_or_method",
    "instance",
    "_Feature"
   ],
   "window_display": false
  }
 },
 "nbformat": 4,
 "nbformat_minor": 2
}
